{
 "cells": [
  {
   "cell_type": "code",
   "execution_count": 40,
   "id": "d097c4ff",
   "metadata": {},
   "outputs": [
    {
     "data": {
      "text/plain": [
       "True"
      ]
     },
     "execution_count": 40,
     "metadata": {},
     "output_type": "execute_result"
    }
   ],
   "source": [
    "from langgraph.graph import StateGraph, START, END\n",
    "from langchain_google_genai import GoogleGenerativeAI\n",
    "from langchain.chat_models import init_chat_model\n",
    "from typing import Annotated, TypedDict\n",
    "from pydantic import BaseModel, Field\n",
    "from dotenv import load_dotenv\n",
    "import operator\n",
    "\n",
    "load_dotenv()"
   ]
  },
  {
   "cell_type": "code",
   "execution_count": 41,
   "id": "3f8ebd6e",
   "metadata": {},
   "outputs": [
    {
     "name": "stderr",
     "output_type": "stream",
     "text": [
      "E0000 00:00:1759494955.205349   34472 alts_credentials.cc:93] ALTS creds ignored. Not running on GCP and untrusted ALTS is not enabled.\n"
     ]
    }
   ],
   "source": [
    "llm = init_chat_model(model='google_genai:gemini-2.5-flash')"
   ]
  },
  {
   "cell_type": "code",
   "execution_count": 42,
   "id": "68ac6b8f",
   "metadata": {},
   "outputs": [],
   "source": [
    "class EvaluationSchema(BaseModel):\n",
    "  feedback: str = Field(description=\"detailed feedback of the essay\")\n",
    "  score: int = Field(description=\"score out of 10\", gt=0, le=10)"
   ]
  },
  {
   "cell_type": "code",
   "execution_count": null,
   "id": "ea6380a4",
   "metadata": {},
   "outputs": [],
   "source": [
    "essay = \"\"\"India in the Age of AI\n",
    "As the world enters a transformative era defined by artificial intelligence (AI), India stands at a critical juncture — one where it can either emerge as a global leader in AI innovation or risk falling behind in the technology race. The age of AI brings with it immense promise as well as unprecedented challenges, and how India navigates this landscape will shape its socio-economic and geopolitical future.\n",
    "\n",
    "India's strengths in the AI domain are rooted in its vast pool of skilled engineers, a thriving IT industry, and a growing startup ecosystem. With over 5 million STEM graduates annually and a burgeoning base of AI researchers, India possesses the intellectual capital required to build cutting-edge AI systems. Institutions like IITs, IIITs, and IISc have begun fostering AI research, while private players such as TCS, Infosys, and Wipro are integrating AI into their global services. In 2020, the government launched the National AI Strategy (AI for All) with a focus on inclusive growth, aiming to leverage AI in healthcare, agriculture, education, and smart mobility.\n",
    "\n",
    "One of the most promising applications of AI in India lies in agriculture, where predictive analytics can guide farmers on optimal sowing times, weather forecasts, and pest control. In healthcare, AI-powered diagnostics can help address India’s doctor-patient ratio crisis, particularly in rural areas. Educational platforms are increasingly using AI to personalize learning paths, while smart governance tools are helping improve public service delivery and fraud detection.\n",
    "\n",
    "However, the path to AI-led growth is riddled with challenges. Chief among them is the digital divide. While metropolitan cities may embrace AI-driven solutions, rural India continues to struggle with basic internet access and digital literacy. The risk of job displacement due to automation also looms large, especially for low-skilled workers. Without effective skilling and re-skilling programs, AI could exacerbate existing socio-economic inequalities.\n",
    "\n",
    "Another pressing concern is data privacy and ethics. As AI systems rely heavily on vast datasets, ensuring that personal data is used transparently and responsibly becomes vital. India is still shaping its data protection laws, and in the absence of a strong regulatory framework, AI systems may risk misuse or bias.\n",
    "\n",
    "To harness AI responsibly, India must adopt a multi-stakeholder approach involving the government, academia, industry, and civil society. Policies should promote open datasets, encourage responsible innovation, and ensure ethical AI practices. There is also a need for international collaboration, particularly with countries leading in AI research, to gain strategic advantage and ensure interoperability in global systems.\n",
    "\n",
    "India’s demographic dividend, when paired with responsible AI adoption, can unlock massive economic growth, improve governance, and uplift marginalized communities. But this vision will only materialize if AI is seen not merely as a tool for automation, but as an enabler of human-centered development.\n",
    "\n",
    "In conclusion, India in the age of AI is a story in the making — one of opportunity, responsibility, and transformation. The decisions we make today will not just determine India’s AI trajectory, but also its future as an inclusive, equitable, and innovation-driven society.\"\"\""
   ]
  },
  {
   "cell_type": "code",
   "execution_count": 44,
   "id": "1fc4b98d",
   "metadata": {},
   "outputs": [],
   "source": [
    "struc_llm = llm.with_structured_output(EvaluationSchema)"
   ]
  },
  {
   "cell_type": "code",
   "execution_count": 45,
   "id": "09e31257",
   "metadata": {},
   "outputs": [],
   "source": [
    "class UPSEEssayState(TypedDict):\n",
    "  essay_text: str\n",
    "  language_feedback: str\n",
    "  clarity_feedback:str\n",
    "  depth_feedback:str\n",
    "  summary_feedback: str\n",
    "  score_of_feedback: Annotated[list[int], operator.add]\n",
    "  average_score: float\n"
   ]
  },
  {
   "cell_type": "code",
   "execution_count": 46,
   "id": "4105f6dc",
   "metadata": {},
   "outputs": [],
   "source": [
    "def evaluate_language(state: UPSEEssayState):\n",
    "\n",
    "    prompt = f'Evaluate the language quality of the following essay and provide a feedback and assign a score out of 10 \\n {state[\"essay_text\"]}'\n",
    "    output = struc_llm.invoke(prompt)\n",
    "\n",
    "    return {'language_feedback': output.feedback, 'score_of_feedback': [output.score]}\n",
    "  "
   ]
  },
  {
   "cell_type": "code",
   "execution_count": 47,
   "id": "cf448dc0",
   "metadata": {},
   "outputs": [],
   "source": [
    "def evaluate_clarity(state: UPSEEssayState):\n",
    "\n",
    "    prompt = f'Evaluate the clarity of thought of the following essay and provide a feedback and assign a score out of 10 \\n {state[\"essay_text\"]}'\n",
    "    output = struc_llm.invoke(prompt)\n",
    "\n",
    "    return {'clarity_feedback': output.feedback, 'score_of_feedback': [output.score]}"
   ]
  },
  {
   "cell_type": "code",
   "execution_count": 48,
   "id": "5593355b",
   "metadata": {},
   "outputs": [],
   "source": [
    "def evaluate_depth(state: UPSEEssayState):\n",
    "\n",
    "    prompt = f'Evaluate the depth of analysis of the following essay and provide a feedback and assign a score out of 10 \\n {state[\"essay_text\"]}'\n",
    "    output = struc_llm.invoke(prompt)\n",
    "\n",
    "    return {'depth_feedback': output.feedback, 'score_of_feedback': [output.score]}"
   ]
  },
  {
   "cell_type": "code",
   "execution_count": 49,
   "id": "dccb0bd7",
   "metadata": {},
   "outputs": [],
   "source": [
    "def final_evaluation(state: UPSEEssayState):\n",
    "\n",
    "    # summary feedback\n",
    "    prompt = f'Based on the following feedbacks create a summarized feedback \\n language feedback - {state[\"language_feedback\"]} \\n depth of analysis feedback - {state[\"depth_feedback\"]} \\n clarity of thought feedback - {state[\"clarity_feedback\"]}'\n",
    "    overall_feedback = llm.invoke(prompt).content\n",
    "\n",
    "    # avg calculate\n",
    "    avg_score = sum(state['score_of_feedback'])/len(state['score_of_feedback'])\n",
    "\n",
    "    return {'summary_feedback': overall_feedback, 'average_score': avg_score}\n",
    "    "
   ]
  },
  {
   "cell_type": "code",
   "execution_count": 50,
   "id": "c9639b85",
   "metadata": {},
   "outputs": [],
   "source": [
    "graph_builder = StateGraph(UPSEEssayState)\n",
    "\n",
    "graph_builder.add_node('evaluate_language', evaluate_language)\n",
    "graph_builder.add_node('evaluate_clarity', evaluate_clarity)\n",
    "graph_builder.add_node('evaluate_depth', evaluate_depth)\n",
    "graph_builder.add_node('final_evaluation', final_evaluation)\n",
    "\n",
    "\n",
    "graph_builder.add_edge(START, 'evaluate_language')\n",
    "graph_builder.add_edge(START, 'evaluate_depth')\n",
    "graph_builder.add_edge(START, 'evaluate_clarity')\n",
    "\n",
    "graph_builder.add_edge('evaluate_clarity', 'final_evaluation')\n",
    "graph_builder.add_edge('evaluate_depth', 'final_evaluation')\n",
    "graph_builder.add_edge('evaluate_language', 'final_evaluation')\n",
    "\n",
    "graph_builder.add_edge('final_evaluation', END)\n",
    "\n",
    "workflow = graph_builder.compile()\n"
   ]
  },
  {
   "cell_type": "code",
   "execution_count": 51,
   "id": "855e832b",
   "metadata": {},
   "outputs": [
    {
     "data": {
      "image/png": "[encoded data removed]",
      "text/plain": [
       "<langgraph.graph.state.CompiledStateGraph object at 0x10cc58850>"
      ]
     },
     "execution_count": 51,
     "metadata": {},
     "output_type": "execute_result"
    }
   ],
   "source": [
    "workflow"
   ]
  },
  {
   "cell_type": "code",
   "execution_count": 52,
   "id": "0b83c623",
   "metadata": {},
   "outputs": [
    {
     "data": {
      "text/plain": [
       "{'essay_text': \"India in the Age of AI\\nAs the world enters a transformative era defined by artificial intelligence (AI), India stands at a critical juncture — one where it can either emerge as a global leader in AI innovation or risk falling behind in the technology race. The age of AI brings with it immense promise as well as unprecedented challenges, and how India navigates this landscape will shape its socio-economic and geopolitical future.\\n\\nIndia's strengths in the AI domain are rooted in its vast pool of skilled engineers, a thriving IT industry, and a growing startup ecosystem. With over 5 million STEM graduates annually and a burgeoning base of AI researchers, India possesses the intellectual capital required to build cutting-edge AI systems. Institutions like IITs, IIITs, and IISc have begun fostering AI research, while private players such as TCS, Infosys, and Wipro are integrating AI into their global services. In 2020, the government launched the National AI Strategy (AI for All) with a focus on inclusive growth, aiming to leverage AI in healthcare, agriculture, education, and smart mobility.\\n\\nOne of the most promising applications of AI in India lies in agriculture, where predictive analytics can guide farmers on optimal sowing times, weather forecasts, and pest control. In healthcare, AI-powered diagnostics can help address India’s doctor-patient ratio crisis, particularly in rural areas. Educational platforms are increasingly using AI to personalize learning paths, while smart governance tools are helping improve public service delivery and fraud detection.\\n\\nHowever, the path to AI-led growth is riddled with challenges. Chief among them is the digital divide. While metropolitan cities may embrace AI-driven solutions, rural India continues to struggle with basic internet access and digital literacy. The risk of job displacement due to automation also looms large, especially for low-skilled workers. Without effective skilling and re-skilling programs, AI could exacerbate existing socio-economic inequalities.\\n\\nAnother pressing concern is data privacy and ethics. As AI systems rely heavily on vast datasets, ensuring that personal data is used transparently and responsibly becomes vital. India is still shaping its data protection laws, and in the absence of a strong regulatory framework, AI systems may risk misuse or bias.\\n\\nTo harness AI responsibly, India must adopt a multi-stakeholder approach involving the government, academia, industry, and civil society. Policies should promote open datasets, encourage responsible innovation, and ensure ethical AI practices. There is also a need for international collaboration, particularly with countries leading in AI research, to gain strategic advantage and ensure interoperability in global systems.\\n\\nIndia’s demographic dividend, when paired with responsible AI adoption, can unlock massive economic growth, improve governance, and uplift marginalized communities. But this vision will only materialize if AI is seen not merely as a tool for automation, but as an enabler of human-centered development.\\n\\nIn conclusion, India in the age of AI is a story in the making — one of opportunity, responsibility, and transformation. The decisions we make today will not just determine India’s AI trajectory, but also its future as an inclusive, equitable, and innovation-driven society.\",\n",
       " 'language_feedback': 'The essay is very well-written, demonstrating excellent command of the English language. The vocabulary is sophisticated and appropriately used, and the sentence structures are varied and complex, contributing to a professional and academic tone. The arguments are presented clearly and logically, with smooth transitions between paragraphs. There are no significant grammatical errors or typos. The essay effectively communicates complex ideas about AI in India in a comprehensive and engaging manner. The introduction effectively sets the stage, and the conclusion provides a strong summary and forward-looking statement. Overall, the language quality is outstanding, making the essay a pleasure to read and easy to understand.',\n",
       " 'clarity_feedback': 'The essay demonstrates exceptional clarity of thought. It is well-structured, with a logical flow from introduction to conclusion. Each paragraph addresses a distinct aspect of AI in India, presenting strengths, applications, challenges, and solutions in a coherent and easy-to-understand manner. The arguments are clearly articulated, supported by relevant examples, and the language used is precise and unambiguous. The essay successfully navigates a complex topic, making it accessible and insightful for the reader. The transitions between ideas are smooth, contributing to the overall readability and comprehension.',\n",
       " 'depth_feedback': \"The essay provides a comprehensive and well-structured analysis of India's position in the age of AI. It effectively highlights India's strengths, such as its skilled workforce and government initiatives, and explores promising applications across various sectors like agriculture and healthcare. Crucially, the essay delves into significant challenges, including the digital divide, potential job displacement, and data privacy concerns, demonstrating a balanced perspective. The recommendations for a multi-stakeholder approach and ethical AI practices are pertinent. To further enhance the depth, the essay could have incorporated more specific data or delved deeper into the practical implementation challenges or successes of existing AI initiatives.\",\n",
       " 'summary_feedback': \"The essay demonstrates **outstanding language quality**, characterized by sophisticated vocabulary, varied sentence structures, and a professional, academic tone, making it a pleasure to read and easy to understand. **Clarity of thought is exceptional**, with a logical and coherent structure that effectively navigates complex ideas, ensuring arguments are clearly articulated and accessible. The **depth of analysis is comprehensive and well-balanced**, thoroughly exploring India's strengths, applications, and significant challenges in AI, along with pertinent recommendations. To further enhance this, incorporating more specific data or delving deeper into practical implementation details of existing AI initiatives would be beneficial.\",\n",
       " 'score_of_feedback': [9, 8, 9],\n",
       " 'average_score': 8.666666666666666}"
      ]
     },
     "execution_count": 52,
     "metadata": {},
     "output_type": "execute_result"
    }
   ],
   "source": [
    "init_state = {'essay_text': essay}\n",
    "\n",
    "final_state = workflow.invoke(init_state)\n",
    "\n",
    "final_state"
   ]
  }
 ],
 "metadata": {
  "kernelspec": {
   "display_name": "learning-langgraph",
   "language": "python",
   "name": "python3"
  },
  "language_info": {
   "codemirror_mode": {
    "name": "ipython",
    "version": 3
   },
   "file_extension": ".py",
   "mimetype": "text/x-python",
   "name": "python",
   "nbconvert_exporter": "python",
   "pygments_lexer": "ipython3",
   "version": "3.11.9"
  }
 },
 "nbformat": 4,
 "nbformat_minor": 5
}
