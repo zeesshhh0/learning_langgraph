{
 "cells": [
  {
   "cell_type": "code",
   "execution_count": 1,
   "id": "26403fe4",
   "metadata": {},
   "outputs": [],
   "source": [
    "from langgraph.graph import StateGraph, START, END\n",
    "from typing import TypedDict"
   ]
  },
  {
   "cell_type": "code",
   "execution_count": 2,
   "id": "f0190a13",
   "metadata": {},
   "outputs": [],
   "source": [
    "class BMIState(TypedDict):\n",
    "  weight: float\n",
    "  height: float\n",
    "  bmi: float\n",
    "  category: str"
   ]
  },
  {
   "cell_type": "code",
   "execution_count": 3,
   "id": "00e0080f",
   "metadata": {},
   "outputs": [],
   "source": [
    "def bmi_calculator(state: BMIState) -> BMIState:\n",
    "  weight = state['weight']\n",
    "  height = state['height']\n",
    "  \n",
    "  bmi = weight / (height ** 2)\n",
    "  \n",
    "  state['bmi'] = round(bmi,2)\n",
    "  \n",
    "  return state"
   ]
  },
  {
   "cell_type": "code",
   "execution_count": 11,
   "id": "ca83e584",
   "metadata": {},
   "outputs": [],
   "source": [
    "def set_category(state: BMIState) -> BMIState:\n",
    "  \n",
    "  bmi = state['bmi']\n",
    "  \n",
    "  if bmi <= 18.5:\n",
    "    category = 'underweight'\n",
    "  elif 18.5 <= bmi <= 24.9:\n",
    "    category = 'normal weight'\n",
    "  elif 25 <= bmi <= 29.5:\n",
    "    category = 'class 1 obisity'\n",
    "  elif 30 <= bmi <= 40:\n",
    "    category = 'class 2 obisity'\n",
    "  else:\n",
    "    category = 'class 3'\n",
    "  \n",
    "  state['category'] = category\n",
    "  \n",
    "  return state"
   ]
  },
  {
   "cell_type": "code",
   "execution_count": 12,
   "id": "c3c80183",
   "metadata": {},
   "outputs": [],
   "source": [
    "graph = StateGraph(BMIState)\n",
    "\n",
    "graph.add_node('calculate_bmi', bmi_calculator)\n",
    "graph.add_node('set_category', set_category)\n",
    "\n",
    "\n",
    "graph.add_edge(START, 'calculate_bmi')\n",
    "graph.add_edge('calculate_bmi', 'set_category')\n",
    "graph.add_edge('set_category', END)\n",
    "\n",
    "graph = graph.compile()"
   ]
  },
  {
   "cell_type": "code",
   "execution_count": 13,
   "id": "41ea40fd",
   "metadata": {},
   "outputs": [
    {
     "data": {
      "text/plain": [
       "{'weight': 60, 'height': 1.58, 'bmi': 24.03, 'category': 'normal weight'}"
      ]
     },
     "execution_count": 13,
     "metadata": {},
     "output_type": "execute_result"
    }
   ],
   "source": [
    "init_state = {'weight': 60, 'height': 1.58}\n",
    "\n",
    "final_state = graph.invoke(init_state)\n",
    "\n",
    "final_state"
   ]
  }
 ],
 "metadata": {
  "kernelspec": {
   "display_name": "learning-langgraph",
   "language": "python",
   "name": "python3"
  },
  "language_info": {
   "codemirror_mode": {
    "name": "ipython",
    "version": 3
   },
   "file_extension": ".py",
   "mimetype": "text/x-python",
   "name": "python",
   "nbconvert_exporter": "python",
   "pygments_lexer": "ipython3",
   "version": "3.11.9"
  }
 },
 "nbformat": 4,
 "nbformat_minor": 5
}
