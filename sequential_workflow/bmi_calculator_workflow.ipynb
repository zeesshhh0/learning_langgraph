{
 "cells": [
  {
   "cell_type": "code",
   "execution_count": 8,
   "id": "26403fe4",
   "metadata": {},
   "outputs": [],
   "source": [
    "from langgraph.graph import StateGraph, START, END\n",
    "from typing import TypedDict"
   ]
  },
  {
   "cell_type": "code",
   "execution_count": 5,
   "id": "f0190a13",
   "metadata": {},
   "outputs": [],
   "source": [
    "class BMIState(TypedDict):\n",
    "  weight: float\n",
    "  height: float\n",
    "  bmi: float"
   ]
  },
  {
   "cell_type": "code",
   "execution_count": 13,
   "id": "00e0080f",
   "metadata": {},
   "outputs": [],
   "source": [
    "def bmi_calculator(state: BMIState) -> BMIState:\n",
    "  weight = state['weight']\n",
    "  height = state['height']\n",
    "  \n",
    "  bmi = weight / (height ** 2)\n",
    "  \n",
    "  state['bmi'] = round(bmi,2)\n",
    "  \n",
    "  return state"
   ]
  },
  {
   "cell_type": "code",
   "execution_count": 15,
   "id": "c3c80183",
   "metadata": {},
   "outputs": [],
   "source": [
    "graph = StateGraph(BMIState)\n",
    "\n",
    "graph.add_node('calculate_bmi', bmi_calculator)\n",
    "\n",
    "\n",
    "graph.add_edge(START, 'calculate_bmi')\n",
    "graph.add_edge('calculate_bmi', END)\n",
    "\n",
    "graph = graph.compile()"
   ]
  },
  {
   "cell_type": "code",
   "execution_count": 16,
   "id": "41ea40fd",
   "metadata": {},
   "outputs": [
    {
     "data": {
      "text/plain": [
       "{'weight': 60, 'height': 1.68, 'bmi': 21.26}"
      ]
     },
     "execution_count": 16,
     "metadata": {},
     "output_type": "execute_result"
    }
   ],
   "source": [
    "init_state = {'weight': 60, 'height': 1.68}\n",
    "\n",
    "final_state = graph.invoke(init_state)\n",
    "\n",
    "final_state"
   ]
  }
 ],
 "metadata": {
  "kernelspec": {
   "display_name": "learning-langgraph",
   "language": "python",
   "name": "python3"
  },
  "language_info": {
   "codemirror_mode": {
    "name": "ipython",
    "version": 3
   },
   "file_extension": ".py",
   "mimetype": "text/x-python",
   "name": "python",
   "nbconvert_exporter": "python",
   "pygments_lexer": "ipython3",
   "version": "3.11.9"
  }
 },
 "nbformat": 4,
 "nbformat_minor": 5
}
