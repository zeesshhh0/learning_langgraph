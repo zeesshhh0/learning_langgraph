{
 "cells": [
  {
   "cell_type": "code",
   "execution_count": 39,
   "id": "cdb5a6d5",
   "metadata": {},
   "outputs": [
    {
     "data": {
      "text/plain": [
       "True"
      ]
     },
     "execution_count": 39,
     "metadata": {},
     "output_type": "execute_result"
    }
   ],
   "source": [
    "from langchain_google_genai import GoogleGenerativeAI\n",
    "from langgraph.graph import StateGraph, START,END\n",
    "from typing_extensions import TypedDict, Annotated\n",
    "from dotenv import load_dotenv, get_key\n",
    "\n",
    "load_dotenv(verbose=True)\n"
   ]
  },
  {
   "cell_type": "code",
   "execution_count": null,
   "id": "b353ddee",
   "metadata": {},
   "outputs": [
    {
     "name": "stderr",
     "output_type": "stream",
     "text": [
      "E0000 00:00:1759474153.542507   79245 alts_credentials.cc:93] ALTS creds ignored. Not running on GCP and untrusted ALTS is not enabled.\n"
     ]
    }
   ],
   "source": [
    "llm = GoogleGenerativeAI(model='gemini-2.5-flash')"
   ]
  },
  {
   "cell_type": "code",
   "execution_count": 41,
   "id": "5e068ee7",
   "metadata": {},
   "outputs": [],
   "source": [
    "class LLMState(TypedDict):\n",
    "  question: Annotated[str, 'this is question']\n",
    "  answer: Annotated[str, 'this is answer']\n"
   ]
  },
  {
   "cell_type": "code",
   "execution_count": null,
   "id": "0bdc98aa",
   "metadata": {},
   "outputs": [],
   "source": [
    "def ask_llm(state: LLMState) -> LLMState:\n",
    "  \n",
    "  question = state['question']\n",
    "  \n",
    "  prompt = f'asnwer the following question: {question}'\n",
    "  \n",
    "  answer = llm.invoke(prompt)\n",
    "  \n",
    "  state['answer'] = answer\n",
    "   \n",
    "  return state"
   ]
  },
  {
   "cell_type": "code",
   "execution_count": 47,
   "id": "bafab7c6",
   "metadata": {},
   "outputs": [],
   "source": [
    "graph_builder = StateGraph(LLMState)\n",
    "\n",
    "graph_builder.add_node('llm_qa', ask_llm)\n",
    "\n",
    "graph_builder.add_edge(START, 'llm_qa')\n",
    "graph_builder.add_edge('llm_qa', END)\n",
    "\n",
    "workflow = graph_builder.compile()"
   ]
  },
  {
   "cell_type": "code",
   "execution_count": 48,
   "id": "38829e22",
   "metadata": {},
   "outputs": [
    {
     "data": {
      "text/plain": [
       "{'question': 'who was first man on the moon',\n",
       " 'answer': 'The first man on the moon was **Neil Armstrong**.\\n\\nHe stepped onto the lunar surface on **July 20, 1969**, as part of the Apollo 11 mission.'}"
      ]
     },
     "execution_count": 48,
     "metadata": {},
     "output_type": "execute_result"
    }
   ],
   "source": [
    "input_state = {'question': \"who was first man on the moon\", 'answer':''}\n",
    "\n",
    "final_state = workflow.invoke(input_state)\n",
    "\n",
    "final_state"
   ]
  }
 ],
 "metadata": {
  "kernelspec": {
   "display_name": "learning-langgraph",
   "language": "python",
   "name": "python3"
  },
  "language_info": {
   "codemirror_mode": {
    "name": "ipython",
    "version": 3
   },
   "file_extension": ".py",
   "mimetype": "text/x-python",
   "name": "python",
   "nbconvert_exporter": "python",
   "pygments_lexer": "ipython3",
   "version": "3.11.9"
  }
 },
 "nbformat": 4,
 "nbformat_minor": 5
}
