{
 "cells": [
  {
   "cell_type": "code",
   "execution_count": 28,
   "id": "655656e4",
   "metadata": {},
   "outputs": [
    {
     "data": {
      "text/plain": [
       "True"
      ]
     },
     "execution_count": 28,
     "metadata": {},
     "output_type": "execute_result"
    }
   ],
   "source": [
    "from langgraph.graph import StateGraph, START, END\n",
    "from typing import TypedDict, Literal, Annotated\n",
    "from pydantic import BaseModel, Field\n",
    "from langchain.chat_models import init_chat_model\n",
    "from dotenv import load_dotenv\n",
    "\n",
    "load_dotenv()"
   ]
  },
  {
   "cell_type": "code",
   "execution_count": 29,
   "id": "b2032443",
   "metadata": {},
   "outputs": [
    {
     "name": "stderr",
     "output_type": "stream",
     "text": [
      "E0000 00:00:1759842859.439767  100369 alts_credentials.cc:93] ALTS creds ignored. Not running on GCP and untrusted ALTS is not enabled.\n"
     ]
    }
   ],
   "source": [
    "llm = init_chat_model('google_genai:gemini-2.5-flash')"
   ]
  },
  {
   "cell_type": "code",
   "execution_count": 30,
   "id": "0cbdafa9",
   "metadata": {},
   "outputs": [],
   "source": [
    "class ReviewResponseState(TypedDict):\n",
    "  review_text: str\n",
    "  emotion: Literal['positive', 'negative']\n",
    "  response: str  \n",
    "  diagnosis: str"
   ]
  },
  {
   "cell_type": "code",
   "execution_count": 31,
   "id": "ff622572",
   "metadata": {},
   "outputs": [],
   "source": [
    "class EmotionSchema(BaseModel):\n",
    "  emotion: Literal['positive', 'nagative'] = Field(description='this is the emotion of the reveiw')\n",
    "  \n",
    "  \n",
    "llm_struc = llm.with_structured_output(EmotionSchema)"
   ]
  },
  {
   "cell_type": "code",
   "execution_count": 32,
   "id": "2639e808",
   "metadata": {},
   "outputs": [],
   "source": [
    "def check_emotion(state: ReviewResponseState):\n",
    "  \n",
    "  prompt = f\"this is the review of my product tell me what is the emotion of the customer is it positive or nagative, just reply in one word \\n\\n review: {state['review_text']}\"\n",
    "  \n",
    "  response = llm_struc.invoke(prompt)\n",
    "  \n",
    "  return {'emotion': response.emotion}"
   ]
  },
  {
   "cell_type": "code",
   "execution_count": 38,
   "id": "1dcb10af",
   "metadata": {},
   "outputs": [],
   "source": [
    "def generate_reply(state: ReviewResponseState):\n",
    "  \n",
    "  prompt = f\"you are replying to the customer for the {state['emotion']} response of the product here is the review, just write me appropriate reply \\n review: {state['review_text']}\"\n",
    "  \n",
    "  response = llm.invoke(prompt)\n",
    "  \n",
    "  return {'response': response.content}"
   ]
  },
  {
   "cell_type": "code",
   "execution_count": 34,
   "id": "c71d3f40",
   "metadata": {},
   "outputs": [],
   "source": [
    "def run_diagnosis(state: ReviewResponseState):\n",
    "  \n",
    "  prompt = f\"this is the reivew from the customer can you analyse what went wrong here \\n reivew: {state['review_text']}\"\n",
    "  \n",
    "  response = llm.invoke(prompt)\n",
    "  \n",
    "  return {'diagnosis': response.content}"
   ]
  },
  {
   "cell_type": "code",
   "execution_count": 35,
   "id": "df7932b9",
   "metadata": {},
   "outputs": [],
   "source": [
    "def do_check_emotion(state: ReviewResponseState) -> Literal['run_diagnosis', 'generate_reply']:\n",
    "  \n",
    "  if state['emotion'] == 'negative':\n",
    "    return 'run_diagnosis'\n",
    "  else:\n",
    "    return 'generate_reply'"
   ]
  },
  {
   "cell_type": "code",
   "execution_count": 39,
   "id": "765f19a7",
   "metadata": {},
   "outputs": [
    {
     "data": {
      "image/png": "[encoded data removed]",
      "text/plain": [
       "<langgraph.graph.state.CompiledStateGraph object at 0x11ad54710>"
      ]
     },
     "execution_count": 39,
     "metadata": {},
     "output_type": "execute_result"
    }
   ],
   "source": [
    "graph = StateGraph(ReviewResponseState)\n",
    "\n",
    "graph.add_node('check_emotion', check_emotion)\n",
    "graph.add_node('generate_reply', generate_reply)\n",
    "graph.add_node('run_diagnosis', run_diagnosis)\n",
    "\n",
    "graph.add_edge(START, 'check_emotion')\n",
    "graph.add_conditional_edges('check_emotion', do_check_emotion)\n",
    "graph.add_edge('run_diagnosis','generate_reply')\n",
    "graph.add_edge('generate_reply', END)\n",
    "\n",
    "workflow = graph.compile()\n",
    "\n",
    "graph.compile()"
   ]
  },
  {
   "cell_type": "code",
   "execution_count": 40,
   "id": "95b83934",
   "metadata": {},
   "outputs": [
    {
     "data": {
      "text/plain": [
       "{'review_text': 'i bought this two years ago and it stopped working after 1 month',\n",
       " 'emotion': 'nagative',\n",
       " 'response': 'Dear [Customer Name, if known, otherwise \"Valued Customer\"],\\n\\nWe\\'re truly sorry to hear that your product stopped working after just one month, and we sincerely apologize for the frustration and disappointment this must have caused, especially given that you purchased it two years ago.\\n\\nWhile this review is from some time ago, a product failing so soon after purchase is certainly not the experience we want our customers to have, nor does it reflect the quality standards we aim for.\\n\\nEven though it\\'s been a while, we\\'d still like to see if there\\'s anything we can do to assist or understand what might have happened. Could you please provide us with more details about the product (model name, type) and if you happen to have your order number or any purchase details from that time?\\n\\nPlease reach out to our customer support team directly at [Your Customer Service Email Address] or [Your Customer Service Phone Number] so we can discuss this further in a private setting. We value your feedback and are committed to ensuring our products provide lasting satisfaction.\\n\\nWe look forward to hearing from you and hope to resolve this for you.\\n\\nSincerely,\\n\\nThe [Your Company Name] Team'}"
      ]
     },
     "execution_count": 40,
     "metadata": {},
     "output_type": "execute_result"
    }
   ],
   "source": [
    "init_state = {'review_text': \"i bought this two years ago and it stopped working after 1 month\"}\n",
    "\n",
    "\n",
    "final_state = workflow.invoke(init_state)\n",
    "\n",
    "final_state"
   ]
  }
 ],
 "metadata": {
  "kernelspec": {
   "display_name": "learning-langgraph",
   "language": "python",
   "name": "python3"
  },
  "language_info": {
   "codemirror_mode": {
    "name": "ipython",
    "version": 3
   },
   "file_extension": ".py",
   "mimetype": "text/x-python",
   "name": "python",
   "nbconvert_exporter": "python",
   "pygments_lexer": "ipython3",
   "version": "3.11.9"
  }
 },
 "nbformat": 4,
 "nbformat_minor": 5
}
