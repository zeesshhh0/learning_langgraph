{
 "cells": [
  {
   "cell_type": "code",
   "execution_count": 1,
   "id": "25a453d0",
   "metadata": {},
   "outputs": [
    {
     "data": {
      "text/plain": [
       "True"
      ]
     },
     "execution_count": 1,
     "metadata": {},
     "output_type": "execute_result"
    }
   ],
   "source": [
    "from langgraph.graph import StateGraph, START, END\n",
    "from langchain_google_genai import GoogleGenerativeAI\n",
    "from typing import Annotated, TypedDict\n",
    "from dotenv import load_dotenv\n",
    "\n",
    "load_dotenv()"
   ]
  },
  {
   "cell_type": "code",
   "execution_count": 2,
   "id": "f0c9a005",
   "metadata": {},
   "outputs": [
    {
     "name": "stderr",
     "output_type": "stream",
     "text": [
      "WARNING: All log messages before absl::InitializeLog() is called are written to STDERR\n",
      "E0000 00:00:1759474646.845166  104020 alts_credentials.cc:93] ALTS creds ignored. Not running on GCP and untrusted ALTS is not enabled.\n"
     ]
    }
   ],
   "source": [
    "llm = GoogleGenerativeAI(model='gemini-2.5-flash')"
   ]
  },
  {
   "cell_type": "code",
   "execution_count": 3,
   "id": "bc80e172",
   "metadata": {},
   "outputs": [],
   "source": [
    "class BlogState(TypedDict):\n",
    "  title: Annotated[str, 'This is title of the blog']\n",
    "  outline: Annotated[str, 'This is outline of the blog']\n",
    "  content: Annotated[str, 'This is content of the blog']"
   ]
  },
  {
   "cell_type": "code",
   "execution_count": 11,
   "id": "e08e49bb",
   "metadata": {},
   "outputs": [],
   "source": [
    "def create_outline(state:BlogState) ->BlogState:\n",
    "  \n",
    "  title = state['title']\n",
    "  \n",
    "  prompt = f'generate a 3 one sentence points outline for the blog of the title: {title}'\n",
    "  \n",
    "  outline = llm.invoke(prompt)\n",
    "\n",
    "  state['outline'] = outline\n",
    "  \n",
    "  return state"
   ]
  },
  {
   "cell_type": "code",
   "execution_count": 12,
   "id": "868e976b",
   "metadata": {},
   "outputs": [],
   "source": [
    "def create_content(state: BlogState)-> BlogState:\n",
    "  \n",
    "  title = state['title']\n",
    "  outline = state['outline']\n",
    "  \n",
    "  prompt = f\"create a 100 words short blog from the given outline and title \\n\\ntitle:{title}\\n\\noutline:{outline}\"\n",
    "  \n",
    "  content = llm.invoke(prompt)\n",
    "  \n",
    "  state['content'] = content\n",
    "  \n",
    "  return state"
   ]
  },
  {
   "cell_type": "code",
   "execution_count": 13,
   "id": "f46f6274",
   "metadata": {},
   "outputs": [],
   "source": [
    "graph_builder = StateGraph(BlogState)\n",
    "\n",
    "graph_builder.add_node('create_outline', create_outline)\n",
    "graph_builder.add_node('create_content', create_content)\n",
    "\n",
    "graph_builder.add_edge(START, 'create_outline')\n",
    "graph_builder.add_edge('create_outline', 'create_content')\n",
    "graph_builder.add_edge('create_content', END)\n",
    "\n",
    "workflow = graph_builder.compile()"
   ]
  },
  {
   "cell_type": "code",
   "execution_count": 14,
   "id": "276e52db",
   "metadata": {},
   "outputs": [
    {
     "data": {
      "text/plain": [
       "{'title': 'different types of water tastes',\n",
       " 'outline': 'Here\\'s a 3 one-sentence points outline for a blog titled \"Different Types of Water Tastes\":\\n\\n1.  **Natural Sources & Mineral Content:** Different water sources, like natural springs, wells, or municipal taps, impart unique mineral compositions and dissolved solids that define their inherent taste profiles, from crisp and clean to earthy or slightly sweet.\\n2.  **Treatment & Filtration Processes:** Chemical treatments, such as chlorination, and various filtration methods significantly alter water\\'s taste, often resulting in distinct flavors like a \"clean\" but sometimes noticeable chemical undertone or a neutral, bland profile.\\n3.  **Environmental Factors & Contaminants:** External factors like plumbing materials, dissolved gases, or the presence of contaminants (e.g., metals, algae, organic matter) can introduce undesirable metallic, sulfuric, or musty \"off-tastes.\"',\n",
       " 'content': '## Different Types of Water Tastes\\n\\nEver noticed how water tastes different depending on where you are? It\\'s not just your imagination! The source plays a huge role. Natural springs or wells boast unique mineral compositions and dissolved solids, giving water anything from a crisp, clean feel to an earthy or slightly sweet note.\\n\\nMunicipal tap water\\'s taste is often shaped by treatment processes like chlorination, which can introduce a distinct, sometimes chemical, undertone, or leave it surprisingly neutral after extensive filtration. Furthermore, environmental factors significantly impact flavor. Old plumbing might add a metallic hint, while dissolved gases or even microscopic contaminants can lead to musty or sulfuric \"off-tastes.\" So next time you take a sip, consider its unique journey!'}"
      ]
     },
     "execution_count": 14,
     "metadata": {},
     "output_type": "execute_result"
    }
   ],
   "source": [
    "input_state = {'title': \"different types of water tastes\"}\n",
    "\n",
    "final_state = workflow.invoke(input_state)\n",
    "\n",
    "final_state"
   ]
  }
 ],
 "metadata": {
  "kernelspec": {
   "display_name": "learning-langgraph",
   "language": "python",
   "name": "python3"
  },
  "language_info": {
   "codemirror_mode": {
    "name": "ipython",
    "version": 3
   },
   "file_extension": ".py",
   "mimetype": "text/x-python",
   "name": "python",
   "nbconvert_exporter": "python",
   "pygments_lexer": "ipython3",
   "version": "3.11.9"
  }
 },
 "nbformat": 4,
 "nbformat_minor": 5
}
